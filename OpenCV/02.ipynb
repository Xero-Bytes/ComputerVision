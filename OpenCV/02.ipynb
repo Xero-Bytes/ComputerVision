{
 "cells": [
  {
   "cell_type": "code",
   "execution_count": 1,
   "id": "7d002735",
   "metadata": {},
   "outputs": [],
   "source": [
    "import numpy as np\n",
    "import cv2"
   ]
  },
  {
   "cell_type": "markdown",
   "id": "9971bede",
   "metadata": {},
   "source": [
    "### `Load images by default`"
   ]
  },
  {
   "cell_type": "code",
   "execution_count": 2,
   "id": "7a77dab6",
   "metadata": {},
   "outputs": [
    {
     "name": "stdout",
     "output_type": "stream",
     "text": [
      "(730, 719, 3)\n"
     ]
    }
   ],
   "source": [
    "img = cv2.imread('images/img1.jpeg')\n",
    "print(img.shape)"
   ]
  },
  {
   "cell_type": "code",
   "execution_count": 3,
   "id": "5be3a7b8",
   "metadata": {},
   "outputs": [
    {
     "name": "stdout",
     "output_type": "stream",
     "text": [
      "(730, 719)\n"
     ]
    }
   ],
   "source": [
    "# it shows that image is 730*719 and in rgb color, now load it in a different way\n",
    "img2 = cv2.imread('images/img1.jpeg',0) # load grayscale image\n",
    "print(img2.shape)"
   ]
  },
  {
   "cell_type": "code",
   "execution_count": 4,
   "id": "36951958",
   "metadata": {},
   "outputs": [],
   "source": [
    "# let's try to display img2 and img1 to show\n",
    "r_img1 = cv2.resize(img,(300,300))\n",
    "r_img2 = cv2.resize(img2,(300,300))\n",
    "\n",
    "images = [r_img1,r_img2]\n",
    "\n",
    "for img in images:\n",
    "    cv2.imshow(\"Images\", img)\n",
    "    cv2.waitKey(0)\n",
    "    \n",
    "cv2.destroyAllWindows()\n",
    "del img,img2,r_img1,r_img2,images"
   ]
  },
  {
   "cell_type": "code",
   "execution_count": null,
   "id": "05ac01c5",
   "metadata": {},
   "outputs": [],
   "source": []
  },
  {
   "cell_type": "markdown",
   "id": "dc0168e3",
   "metadata": {},
   "source": [
    "## `Overlap text`"
   ]
  },
  {
   "cell_type": "code",
   "execution_count": 5,
   "id": "6a6899cd",
   "metadata": {},
   "outputs": [],
   "source": [
    "# Get image\n",
    "img = cv2.imread('images/img2.jpg',0) # load gray scale image\n",
    "\n",
    "txt = cv2.putText(img,'Hira Batool',org=(312,512),fontFace=cv2.FONT_HERSHEY_TRIPLEX,fontScale=3,color=(200,203,150),thickness=3,lineType=cv2.LINE_8,bottomLeftOrigin=False)\n",
    "cv2.imshow(\"Hira\",img)\n",
    "cv2.waitKey(0)\n",
    "cv2.destroyWindow(\"Hira\")\n",
    "del img,txt"
   ]
  },
  {
   "cell_type": "code",
   "execution_count": 6,
   "id": "843b2b6b",
   "metadata": {},
   "outputs": [],
   "source": [
    "# Create mirror\n",
    "# Get image\n",
    "img = cv2.imread('images/img2.jpg',0) # load gray scale image\n",
    "\n",
    "txt = cv2.putText(img,'Hira Batool',org=(312,512),fontFace=cv2.FONT_HERSHEY_TRIPLEX,fontScale=3,color=(200,203,150),thickness=3,lineType=cv2.LINE_8,bottomLeftOrigin=False)\n",
    "txt = cv2.putText(img,'Hira Batool',org=(312,532),fontFace=cv2.FONT_HERSHEY_TRIPLEX,fontScale=3,color=(200,203,150),thickness=3,lineType=cv2.LINE_8,bottomLeftOrigin=True)\n",
    "\n",
    "cv2.imshow(\"Hira\",img)\n",
    "cv2.waitKey(0)\n",
    "cv2.destroyWindow(\"Hira\")\n",
    "del img,txt"
   ]
  },
  {
   "cell_type": "code",
   "execution_count": null,
   "id": "7d6c0f2d",
   "metadata": {},
   "outputs": [],
   "source": []
  },
  {
   "cell_type": "markdown",
   "id": "2f50cd60",
   "metadata": {},
   "source": [
    "# `OpenCV Image LineType`"
   ]
  },
  {
   "cell_type": "code",
   "execution_count": 7,
   "id": "47325f24",
   "metadata": {},
   "outputs": [],
   "source": [
    "img = cv2.imread('images/img4.jpg')\n",
    "r_img = cv2.resize(img,(300,300))\n",
    "\n",
    "n_img = cv2.line(img=r_img, pt1=(35,120), pt2=(170,120), color=(255,0,50), thickness=5, lineType=cv2.LINE_8)\n",
    "cv2.imshow('Image',n_img)\n",
    "cv2.waitKey(0)\n",
    "cv2.destroyWindow(\"Image\")\n",
    "\n",
    "del img,r_img,n_img"
   ]
  },
  {
   "cell_type": "code",
   "execution_count": null,
   "id": "41986acc",
   "metadata": {},
   "outputs": [],
   "source": []
  },
  {
   "cell_type": "markdown",
   "id": "6f30a761",
   "metadata": {},
   "source": [
    "### `Draw ractangle`"
   ]
  },
  {
   "cell_type": "code",
   "execution_count": 12,
   "id": "8b1fdb51",
   "metadata": {},
   "outputs": [],
   "source": [
    "img = cv2.imread('images/img3.jpg')\n",
    "img = cv2.resize(img,(200,200))\n",
    "img = cv2.rectangle(img=img, pt1=(75,25), pt2=(120,70), color=(230,100,50), thickness=4, lineType=cv2.LINE_8)\n",
    "\n",
    "cv2.imshow(\"Image\",img)\n",
    "cv2.waitKey(0)\n",
    "cv2.destroyWindow(\"Image\")\n",
    "del img"
   ]
  },
  {
   "cell_type": "code",
   "execution_count": null,
   "id": "36eab74c",
   "metadata": {},
   "outputs": [],
   "source": []
  },
  {
   "cell_type": "markdown",
   "id": "aecdaaec",
   "metadata": {},
   "source": [
    "# `Print name with image`"
   ]
  },
  {
   "cell_type": "code",
   "execution_count": 13,
   "id": "9d04ddd1",
   "metadata": {},
   "outputs": [],
   "source": [
    "img = cv2.imread('images/img3.jpg')\n",
    "img = cv2.resize(img,(200,200))\n",
    "img = cv2.putText(img=img, text=\"Beautiful Girl\", org=(90,25), fontFace=cv2.FONT_HERSHEY_SIMPLEX, fontScale=3, color=(255,120,40), thickness=4,lineType=cv2.LINE_8, bottomLeftOrigin=False)\n",
    "img = cv2.rectangle(img=img, pt1=(75,25),pt2=(120,70),color=(244,123,43),thickness=5,lineType=16)\n",
    "cv2.imshow('Image',img)\n",
    "cv2.waitKey(0)\n",
    "cv2.destroyWindow(\"Image\")\n",
    "del img"
   ]
  },
  {
   "cell_type": "code",
   "execution_count": null,
   "id": "4407fdb1",
   "metadata": {},
   "outputs": [],
   "source": []
  }
 ],
 "metadata": {
  "kernelspec": {
   "display_name": "Python 3 (ipykernel)",
   "language": "python",
   "name": "python3"
  },
  "language_info": {
   "codemirror_mode": {
    "name": "ipython",
    "version": 3
   },
   "file_extension": ".py",
   "mimetype": "text/x-python",
   "name": "python",
   "nbconvert_exporter": "python",
   "pygments_lexer": "ipython3",
   "version": "3.9.13"
  }
 },
 "nbformat": 4,
 "nbformat_minor": 5
}
