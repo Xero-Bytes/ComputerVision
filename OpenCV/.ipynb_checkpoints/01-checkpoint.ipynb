{
 "cells": [
  {
   "cell_type": "code",
   "execution_count": 1,
   "id": "c09dcbbf",
   "metadata": {},
   "outputs": [],
   "source": [
    "import cv2"
   ]
  },
  {
   "cell_type": "markdown",
   "id": "6b74f38a",
   "metadata": {},
   "source": [
    "## `Open and Close One Window`"
   ]
  },
  {
   "cell_type": "code",
   "execution_count": 2,
   "id": "5086fe63",
   "metadata": {},
   "outputs": [],
   "source": [
    "image = cv2.imread('images/img5.jpg') #read image"
   ]
  },
  {
   "cell_type": "code",
   "execution_count": 3,
   "id": "82ba638f",
   "metadata": {},
   "outputs": [],
   "source": [
    "cv2.imshow(\"Image 5\",image) #Show image\n",
    "cv2.waitKey(10000) # Image wait for 10 sec....10000 ml = 10 sec\n",
    "cv2.destroyWindow(winname=\"Image 5\") # destroy or close image 5 window"
   ]
  },
  {
   "cell_type": "code",
   "execution_count": 4,
   "id": "482b5246",
   "metadata": {},
   "outputs": [],
   "source": [
    "del image"
   ]
  },
  {
   "cell_type": "markdown",
   "id": "96a855f8",
   "metadata": {},
   "source": [
    "## `Open and Close Multiple Windows`"
   ]
  },
  {
   "cell_type": "code",
   "execution_count": 5,
   "id": "4a47fe00",
   "metadata": {},
   "outputs": [],
   "source": [
    "img1 = cv2.imread('images/img1.jpeg')\n",
    "img2 = cv2.imread('images/img2.jpg') #read 2 images"
   ]
  },
  {
   "cell_type": "code",
   "execution_count": 6,
   "id": "b9ec08ab",
   "metadata": {},
   "outputs": [],
   "source": [
    "# Open 2 windows\n",
    "cv2.imshow(\"Image 1\",img1)\n",
    "cv2.imshow(\"Image 2\",img2)\n",
    "\n",
    "# wait for 5 second\n",
    "cv2.waitKey(5000)\n",
    "\n",
    "# Destroy all windows\n",
    "cv2.destroyAllWindows()\n",
    "\n",
    "# delete var\n",
    "del img1, img2"
   ]
  },
  {
   "cell_type": "code",
   "execution_count": null,
   "id": "38575173",
   "metadata": {},
   "outputs": [],
   "source": []
  },
  {
   "cell_type": "markdown",
   "id": "9f87735f",
   "metadata": {},
   "source": [
    "## `Resize image`"
   ]
  },
  {
   "cell_type": "code",
   "execution_count": 7,
   "id": "09282ebb",
   "metadata": {},
   "outputs": [],
   "source": [
    "img = cv2.imread('images/img1.jpeg')\n",
    "# Resize image\n",
    "re_img = cv2.resize(img,(300,400))\n",
    "# Open in window\n",
    "cv2.imshow(\"Image\",re_img)\n",
    "# Wait till key press\n",
    "cv2.waitKey(0)\n",
    "# Destroy window\n",
    "cv2.destroyWindow(\"Image\")\n",
    "# del img\n",
    "del img"
   ]
  },
  {
   "cell_type": "code",
   "execution_count": null,
   "id": "d9b3cad1",
   "metadata": {},
   "outputs": [],
   "source": []
  },
  {
   "cell_type": "markdown",
   "id": "b7d55f3d",
   "metadata": {},
   "source": [
    "# `Display multiple images in one frame`"
   ]
  },
  {
   "cell_type": "code",
   "execution_count": 8,
   "id": "30af5cfa",
   "metadata": {},
   "outputs": [],
   "source": [
    "import numpy as np # we use numpy library to use hstack and vstack"
   ]
  },
  {
   "cell_type": "code",
   "execution_count": 9,
   "id": "441279aa",
   "metadata": {},
   "outputs": [
    {
     "data": {
      "text/plain": [
       "array([1, 2, 3, 4, 5, 1])"
      ]
     },
     "execution_count": 9,
     "metadata": {},
     "output_type": "execute_result"
    }
   ],
   "source": [
    "# lets see theoratically whats happen\n",
    "# make 2 numpy array and  join horizantaly\n",
    "\n",
    "a = np.array([1,2,3])\n",
    "b = np.array([4,5,1])\n",
    "\n",
    "np.hstack((a,b)) # horizontally join"
   ]
  },
  {
   "cell_type": "code",
   "execution_count": 10,
   "id": "0835731f",
   "metadata": {},
   "outputs": [
    {
     "data": {
      "text/plain": [
       "array([[1, 2, 3],\n",
       "       [4, 5, 1]])"
      ]
     },
     "execution_count": 10,
     "metadata": {},
     "output_type": "execute_result"
    }
   ],
   "source": [
    "np.vstack((a,b)) # vartically join"
   ]
  },
  {
   "cell_type": "code",
   "execution_count": null,
   "id": "087b1fee",
   "metadata": {},
   "outputs": [],
   "source": []
  },
  {
   "cell_type": "markdown",
   "id": "dcbf1ac8",
   "metadata": {},
   "source": [
    "### `Now read two images and join`"
   ]
  },
  {
   "cell_type": "code",
   "execution_count": 11,
   "id": "46fb0052",
   "metadata": {},
   "outputs": [],
   "source": [
    "img1 = cv2.imread(\"images/img1.jpeg\")\n",
    "img2 = cv2.imread(\"images/img2.jpg\")"
   ]
  },
  {
   "cell_type": "code",
   "execution_count": 12,
   "id": "793d7387",
   "metadata": {},
   "outputs": [],
   "source": [
    "# resize image\n",
    "r_img1 = cv2.resize(img1,(300,350))\n",
    "r_img2 = cv2.resize(img2,(300,350))\n",
    "\n",
    "# Display horizontaly\n",
    "h_img = np.hstack((r_img1,r_img2))\n",
    "\n",
    "# Show in frame\n",
    "cv2.imshow(\"Images\", h_img)\n",
    "\n",
    "# Wait\n",
    "cv2.waitKey(0)\n",
    "\n",
    "# Destroy\n",
    "cv2.destroyWindow(\"Images\")\n",
    "\n",
    "# delete variables\n",
    "del re_img,r_img1,r_img2,img1,img2,h_img"
   ]
  },
  {
   "cell_type": "markdown",
   "id": "4fb0c3b0",
   "metadata": {},
   "source": [
    "##### `Display vartically`"
   ]
  },
  {
   "cell_type": "code",
   "execution_count": 15,
   "id": "427c3cb3",
   "metadata": {},
   "outputs": [],
   "source": [
    "img1 = cv2.imread(\"images/img1.jpeg\")\n",
    "img2 = cv2.imread(\"images/img2.jpg\")\n",
    "\n",
    "# resize image\n",
    "r_img1 = cv2.resize(img1,(300,350))\n",
    "r_img2 = cv2.resize(img2,(300,350))\n",
    "\n",
    "# Display horizontaly\n",
    "v_img = np.vstack((r_img1,r_img2))\n",
    "\n",
    "# Show in frame\n",
    "cv2.imshow(\"Images\", v_img)\n",
    "\n",
    "# Wait\n",
    "cv2.waitKey(0)\n",
    "\n",
    "# Destroy\n",
    "cv2.destroyWindow(\"Images\")\n",
    "\n",
    "# delete variables\n",
    "del r_img1,r_img2,img1,img2,v_img"
   ]
  },
  {
   "cell_type": "code",
   "execution_count": null,
   "id": "a28c6402",
   "metadata": {},
   "outputs": [],
   "source": []
  },
  {
   "cell_type": "markdown",
   "id": "be6d0506",
   "metadata": {},
   "source": [
    "## `Display images horizontally and vartically`"
   ]
  },
  {
   "cell_type": "code",
   "execution_count": 18,
   "id": "b217b13c",
   "metadata": {},
   "outputs": [],
   "source": [
    "# read 4 images\n",
    "img1 = cv2.imread('images/img1.jpeg')\n",
    "img2 = cv2.imread('images/img2.jpg')\n",
    "img3 = cv2.imread('images/img3.jpg')\n",
    "img4 = cv2.imread('images/img4.jpg')\n",
    "\n",
    "# Now resize all 4 images\n",
    "r_img1 = cv2.resize(img1,(300,300))\n",
    "r_img2 = cv2.resize(img2,(300,300))\n",
    "r_img3 = cv2.resize(img3,(300,300))\n",
    "r_img4 = cv2.resize(img4,(300,300))\n",
    "\n",
    "# Concatinate 2 images horizontally\n",
    "h_images1 = np.hstack((r_img1,r_img2))\n",
    "h_images2 = np.hstack((r_img3,r_img4))\n",
    "\n",
    "# Concatenate these images vartically\n",
    "v_images = np.vstack((h_images1,h_images2))\n",
    "\n",
    "# Display in frame\n",
    "cv2.imshow(\"Images\",v_images)\n",
    "\n",
    "# Wait till any key press\n",
    "cv2.waitKey(0)\n",
    "\n",
    "# Destroy image window \n",
    "cv2.destroyWindow(\"Images\")\n",
    "\n",
    "# Delete variables\n",
    "del img1,img2,img3,img4,r_img1,r_img2,r_img3,r_img4,v_images,h_images1,h_images2"
   ]
  },
  {
   "cell_type": "code",
   "execution_count": null,
   "id": "2e0e8dd0",
   "metadata": {},
   "outputs": [],
   "source": []
  },
  {
   "cell_type": "markdown",
   "id": "ae3077ac",
   "metadata": {},
   "source": [
    "### `Display all images in slides`"
   ]
  },
  {
   "cell_type": "code",
   "execution_count": 19,
   "id": "3bfebe4a",
   "metadata": {},
   "outputs": [],
   "source": [
    "import os"
   ]
  },
  {
   "cell_type": "code",
   "execution_count": 24,
   "id": "ebde1778",
   "metadata": {},
   "outputs": [],
   "source": [
    "list_images = os.listdir('images') # Get a list of images from folder images"
   ]
  },
  {
   "cell_type": "code",
   "execution_count": 25,
   "id": "5ef56ce3",
   "metadata": {},
   "outputs": [],
   "source": [
    "for image in list_images: # loop through all images\n",
    "    img = f'images/{image}' # Concatenate image name with path\n",
    "    img = cv2.imread(img) # read image\n",
    "    img = cv2.resize(img, (300,300)) # resize\n",
    "    cv2.imshow(\"Slide Show Images\",img) # Show image\n",
    "    cv2.waitKey(3000) # wait for 3 sec and move for next\n",
    "\n",
    "# destroy all windows and delete var\n",
    "cv2.destroyAllWindows()\n",
    "del image,img,list_images"
   ]
  },
  {
   "cell_type": "code",
   "execution_count": null,
   "id": "21fbbca1",
   "metadata": {},
   "outputs": [],
   "source": []
  },
  {
   "cell_type": "code",
   "execution_count": null,
   "id": "1afb9dd3",
   "metadata": {},
   "outputs": [],
   "source": []
  }
 ],
 "metadata": {
  "kernelspec": {
   "display_name": "Python 3 (ipykernel)",
   "language": "python",
   "name": "python3"
  },
  "language_info": {
   "codemirror_mode": {
    "name": "ipython",
    "version": 3
   },
   "file_extension": ".py",
   "mimetype": "text/x-python",
   "name": "python",
   "nbconvert_exporter": "python",
   "pygments_lexer": "ipython3",
   "version": "3.9.13"
  }
 },
 "nbformat": 4,
 "nbformat_minor": 5
}
