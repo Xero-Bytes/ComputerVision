{
 "cells": [
  {
   "cell_type": "code",
   "execution_count": 1,
   "id": "86d7294d",
   "metadata": {},
   "outputs": [],
   "source": [
    "import numpy as np\n",
    "import cv2"
   ]
  },
  {
   "cell_type": "markdown",
   "id": "229678b0",
   "metadata": {},
   "source": [
    "## `Draw circle on face`"
   ]
  },
  {
   "cell_type": "code",
   "execution_count": 2,
   "id": "bc13a8a7",
   "metadata": {},
   "outputs": [],
   "source": [
    "# load image\n",
    "img = cv2.imread('images/img6.jpg')\n",
    "# Resize image\n",
    "img = cv2.resize(img,(200,200))\n",
    "\n",
    "# New image with circle around face\n",
    "img = cv2.circle(img, center=(100,70), radius=25, color=(200,43,30), thickness=5, lineType=cv2.LINE_8)\n",
    "\n",
    "# Show image\n",
    "cv2.imshow(\"Image\",img)\n",
    "\n",
    "# Wait\n",
    "cv2.waitKey(0)\n",
    "\n",
    "# Destroy\n",
    "cv2.destroyWindow(\"Image\")"
   ]
  },
  {
   "cell_type": "markdown",
   "id": "e74f1168",
   "metadata": {},
   "source": [
    "### `Hide Face`"
   ]
  },
  {
   "cell_type": "code",
   "execution_count": 3,
   "id": "ed045da2",
   "metadata": {},
   "outputs": [],
   "source": [
    "# load image\n",
    "img = cv2.imread('images/img6.jpg')\n",
    "# Resize image\n",
    "img = cv2.resize(img,(200,200))\n",
    "\n",
    "# New image with circle around face\n",
    "img = cv2.circle(img, center=(100,70), radius=25, color=(200,43,30), thickness=-1, lineType=cv2.LINE_8)\n",
    "\n",
    "# Show image\n",
    "cv2.imshow(\"Image\",img)\n",
    "\n",
    "# Wait\n",
    "cv2.waitKey(0)\n",
    "\n",
    "# Destroy\n",
    "cv2.destroyWindow(\"Image\")\n",
    "del img"
   ]
  },
  {
   "cell_type": "markdown",
   "id": "850ca20d",
   "metadata": {},
   "source": [
    "## `Eclipse`"
   ]
  },
  {
   "cell_type": "code",
   "execution_count": 4,
   "id": "4ca62b5f",
   "metadata": {},
   "outputs": [],
   "source": [
    "# load image\n",
    "img = cv2.imread('images/img6.jpg')\n",
    "# Resize image\n",
    "img = cv2.resize(img,(200,200))\n",
    "\n",
    "# New image with circle around face\n",
    "img = cv2.ellipse(img, center=(100,70), axes=(35,25), angle=30, startAngle=0, endAngle=360, color=(0,255,0), thickness=4, lineType=16)\n",
    "# Show image\n",
    "cv2.imshow(\"Image\",img)\n",
    "\n",
    "# Wait\n",
    "cv2.waitKey(0)\n",
    "\n",
    "# Destroy\n",
    "cv2.destroyWindow(\"Image\")\n",
    "del img"
   ]
  },
  {
   "cell_type": "code",
   "execution_count": null,
   "id": "01450f72",
   "metadata": {},
   "outputs": [],
   "source": []
  },
  {
   "cell_type": "markdown",
   "id": "b7923da0",
   "metadata": {},
   "source": [
    "## `Print name in Ellipse`"
   ]
  },
  {
   "cell_type": "code",
   "execution_count": 5,
   "id": "6d894646",
   "metadata": {},
   "outputs": [],
   "source": [
    "# Load image \n",
    "img = cv2.imread('images/img6.jpg')\n",
    "\n",
    "# Resize Image\n",
    "img = cv2.resize(img,(200,200))\n",
    "\n",
    "# New image with centered text\n",
    "img = cv2.putText(img,\"Hira\",(115,95),fontFace=cv2.FONT_HERSHEY_COMPLEX,fontScale=0.5,color=(200,130,40),thickness=2,lineType=8)\n",
    "\n",
    "# New Image with elipse\n",
    "img = cv2.ellipse(img, center=(100,70), axes=(35,25), angle=60, startAngle=0, endAngle=305, color=(0,255,0), thickness=3, lineType=8)\n",
    "\n",
    "# Show image\n",
    "cv2.imshow(\"Image\",img)\n",
    "\n",
    "# Wait\n",
    "cv2.waitKey(0)\n",
    "\n",
    "# Destroy window\n",
    "cv2.destroyWindow(\"Image\")\n",
    "\n",
    "# Delete variable\n",
    "del img"
   ]
  },
  {
   "cell_type": "code",
   "execution_count": null,
   "id": "0f242321",
   "metadata": {},
   "outputs": [],
   "source": []
  },
  {
   "cell_type": "markdown",
   "id": "dc6d3ecf",
   "metadata": {},
   "source": [
    "# `Draw Polygon on Images`"
   ]
  },
  {
   "cell_type": "code",
   "execution_count": 6,
   "id": "e44e3467",
   "metadata": {},
   "outputs": [],
   "source": [
    "img = cv2.imread('images/img3.jpg')\n",
    "\n",
    "# Resize image\n",
    "img = cv2.resize(img, (300,300))\n",
    "\n",
    "# Image with polygn\n",
    "img = cv2.polylines(img, pts=[np.array([[110,70],[140, 40], [185,70], [175,95], [110,95]])], isClosed=True, color=(0,255,0), thickness=4, lineType=8)\n",
    "\n",
    "# Show image \n",
    "cv2.imshow('Image', img)\n",
    "\n",
    "# Wait\n",
    "cv2.waitKey(0)\n",
    "\n",
    "# Destroy window\n",
    "cv2.destroyWindow(\"Image\")\n",
    "\n",
    "# Delete variable\n",
    "del img"
   ]
  },
  {
   "cell_type": "code",
   "execution_count": null,
   "id": "ddfbd384",
   "metadata": {},
   "outputs": [],
   "source": []
  }
 ],
 "metadata": {
  "kernelspec": {
   "display_name": "Python 3 (ipykernel)",
   "language": "python",
   "name": "python3"
  },
  "language_info": {
   "codemirror_mode": {
    "name": "ipython",
    "version": 3
   },
   "file_extension": ".py",
   "mimetype": "text/x-python",
   "name": "python",
   "nbconvert_exporter": "python",
   "pygments_lexer": "ipython3",
   "version": "3.9.13"
  }
 },
 "nbformat": 4,
 "nbformat_minor": 5
}
