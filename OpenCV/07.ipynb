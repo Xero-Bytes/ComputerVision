{
 "cells": [
  {
   "cell_type": "markdown",
   "id": "f4a389c9",
   "metadata": {},
   "source": [
    "# `Play with Videos`"
   ]
  },
  {
   "cell_type": "code",
   "execution_count": 1,
   "id": "4d26260c",
   "metadata": {},
   "outputs": [],
   "source": [
    "import cv2"
   ]
  },
  {
   "cell_type": "code",
   "execution_count": 6,
   "id": "72cd0681",
   "metadata": {},
   "outputs": [],
   "source": [
    "# Capture video\n",
    "vid = cv2.VideoCapture('Video/video1.mp4')\n",
    "\n",
    "# Play video\n",
    "while vid.isOpened():\n",
    "    r, frame = vid.read()\n",
    "    \n",
    "    # If r is true\n",
    "    if r == True:\n",
    "        frame = cv2.resize(frame, (300,300))\n",
    "        cv2.imshow(\"Video\", frame)\n",
    "        if cv2.waitKey(25) & 0xff == ord('p'):\n",
    "            break\n",
    "    else:\n",
    "        break\n",
    "\n",
    "vid.release()\n",
    "cv2.destroyAllWindows()\n",
    "del vid, r, frame"
   ]
  },
  {
   "cell_type": "code",
   "execution_count": null,
   "id": "c5ef26df",
   "metadata": {},
   "outputs": [],
   "source": []
  },
  {
   "cell_type": "markdown",
   "id": "ff5eb857",
   "metadata": {},
   "source": [
    "### `Apply Blur into Video`"
   ]
  },
  {
   "cell_type": "code",
   "execution_count": 9,
   "id": "9b7a2a5d",
   "metadata": {},
   "outputs": [],
   "source": [
    "# Capture video\n",
    "vid = cv2.VideoCapture('Video/video1.mp4')\n",
    "\n",
    "while vid.isOpened():\n",
    "    r, frame = vid.read()\n",
    "    \n",
    "    if r== True:\n",
    "        frame = cv2.resize(frame,(300,300))\n",
    "        frame = cv2.GaussianBlur(frame,(5,5), 1)\n",
    "        cv2.imshow('Video', frame)\n",
    "        if cv2.waitKey(24) & 0xff == ord('q'):\n",
    "            break\n",
    "    else:\n",
    "        break\n",
    "\n",
    "vid.release()\n",
    "cv2.destroyAllWindows()\n",
    "del vid, frame, r"
   ]
  },
  {
   "cell_type": "code",
   "execution_count": null,
   "id": "95e9f2c3",
   "metadata": {},
   "outputs": [],
   "source": []
  },
  {
   "cell_type": "markdown",
   "id": "2dded966",
   "metadata": {},
   "source": [
    "## `Capture Video From Camera`"
   ]
  },
  {
   "cell_type": "code",
   "execution_count": 10,
   "id": "95929f80",
   "metadata": {},
   "outputs": [],
   "source": [
    "vid = cv2.VideoCapture(0)\n",
    "\n",
    "while vid.isOpened():\n",
    "    r, frame = vid.read()\n",
    "    \n",
    "    if r == True:\n",
    "        frame = cv2.resize(frame, (300,300))\n",
    "        cv2.imshow('Camera', frame)\n",
    "        if cv2.waitKey(24) & 0xff == ord('p'):\n",
    "            break\n",
    "    else:\n",
    "        break\n",
    "        \n",
    "vid.release()\n",
    "cv2.destroyAllWindows()"
   ]
  },
  {
   "cell_type": "code",
   "execution_count": null,
   "id": "86924607",
   "metadata": {},
   "outputs": [],
   "source": []
  },
  {
   "cell_type": "markdown",
   "id": "82818a26",
   "metadata": {},
   "source": [
    "# `How to make video fast or slow`"
   ]
  },
  {
   "cell_type": "markdown",
   "id": "254b214d",
   "metadata": {},
   "source": [
    "### `cv2.waitKey(25)` **here 25 is our mid point, if we decrease value our video goes fast, and if we increase value it become slow**"
   ]
  },
  {
   "cell_type": "code",
   "execution_count": null,
   "id": "352e0d1c",
   "metadata": {},
   "outputs": [],
   "source": []
  }
 ],
 "metadata": {
  "kernelspec": {
   "display_name": "Python 3 (ipykernel)",
   "language": "python",
   "name": "python3"
  },
  "language_info": {
   "codemirror_mode": {
    "name": "ipython",
    "version": 3
   },
   "file_extension": ".py",
   "mimetype": "text/x-python",
   "name": "python",
   "nbconvert_exporter": "python",
   "pygments_lexer": "ipython3",
   "version": "3.9.13"
  }
 },
 "nbformat": 4,
 "nbformat_minor": 5
}
