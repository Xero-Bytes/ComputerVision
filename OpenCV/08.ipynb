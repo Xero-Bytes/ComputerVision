{
 "cells": [
  {
   "cell_type": "markdown",
   "id": "122e0e2a",
   "metadata": {},
   "source": [
    "# `Morphological Operations:`\n",
    "* **Morphological operations are used to extract images components that are useful in the representation and description of region shape**\n",
    "    * Erosion\n",
    "    * Dilation\n",
    "    * Opening\n",
    "    * Closing\n",
    "    * Morphological Gradient\n",
    "    * Black Hat\n",
    "    * Top Hat"
   ]
  },
  {
   "cell_type": "markdown",
   "id": "504cdab3",
   "metadata": {},
   "source": [
    "## `Erosion`"
   ]
  },
  {
   "cell_type": "code",
   "execution_count": 2,
   "id": "6eb8ce99",
   "metadata": {},
   "outputs": [],
   "source": [
    "import cv2\n",
    "import numpy as np"
   ]
  },
  {
   "cell_type": "code",
   "execution_count": 6,
   "id": "15521cd1",
   "metadata": {},
   "outputs": [],
   "source": [
    "# Load Images\n",
    "\n",
    "img = cv2.imread('images/img2.jpg')\n",
    "img = cv2.resize(img,(200,200))\n",
    "\n",
    "# Create Mask for erode, Kernal\n",
    "m = np.ones((3,3),np.int8)\n",
    "\n",
    "# Erossion\n",
    "e = cv2.erode(img, m, iterations=1)\n",
    "\n",
    "# Display\n",
    "hst = np.hstack((img, e))\n",
    "\n",
    "cv2.imshow(\"Image\",hst)\n",
    "\n",
    "cv2.waitKey(0)\n",
    "\n",
    "cv2.destroyWindow(\"Image\")\n",
    "\n",
    "del e,hst,img,m"
   ]
  },
  {
   "cell_type": "code",
   "execution_count": null,
   "id": "3c360a84",
   "metadata": {},
   "outputs": [],
   "source": []
  },
  {
   "cell_type": "markdown",
   "id": "831c36ba",
   "metadata": {},
   "source": [
    "## `Dilation`"
   ]
  },
  {
   "cell_type": "code",
   "execution_count": 7,
   "id": "c1299c04",
   "metadata": {},
   "outputs": [],
   "source": [
    "img = cv2.imread('images/img2.jpg')\n",
    "img = cv2.resize(img,(200,200))\n",
    "\n",
    "m = np.ones((3,3),np.int8)\n",
    "\n",
    "# Dilate\n",
    "d = cv2.dilate(img, m, iterations=1)\n",
    "\n",
    "# Display\n",
    "hst = np.hstack((img, d))\n",
    "\n",
    "cv2.imshow(\"Image\",hst)\n",
    "\n",
    "cv2.waitKey(0)\n",
    "\n",
    "cv2.destroyWindow(\"Image\")\n",
    "\n",
    "del d,hst,img,m"
   ]
  },
  {
   "cell_type": "code",
   "execution_count": null,
   "id": "ae6aa4c4",
   "metadata": {},
   "outputs": [],
   "source": []
  },
  {
   "cell_type": "markdown",
   "id": "5ffa9265",
   "metadata": {},
   "source": [
    "## `Opening`"
   ]
  },
  {
   "cell_type": "code",
   "execution_count": 8,
   "id": "2638936f",
   "metadata": {},
   "outputs": [],
   "source": [
    "img = cv2.imread('images/img2.jpg')\n",
    "img = cv2.resize(img,(200,200))\n",
    "\n",
    "m = np.ones((3,3),np.int8)\n",
    "\n",
    "# Opening\n",
    "o = cv2.morphologyEx(img,cv2.MORPH_OPEN, m)\n",
    "# Display\n",
    "hst = np.hstack((img, o))\n",
    "\n",
    "cv2.imshow(\"Image\",hst)\n",
    "\n",
    "cv2.waitKey(0)\n",
    "\n",
    "cv2.destroyWindow(\"Image\")\n",
    "\n",
    "del o,hst,img,m"
   ]
  },
  {
   "cell_type": "code",
   "execution_count": null,
   "id": "4a34ac56",
   "metadata": {},
   "outputs": [],
   "source": []
  },
  {
   "cell_type": "markdown",
   "id": "7ce9f8db",
   "metadata": {},
   "source": [
    "## `Closing`"
   ]
  },
  {
   "cell_type": "code",
   "execution_count": 9,
   "id": "a0e2739b",
   "metadata": {},
   "outputs": [],
   "source": [
    "img = cv2.imread('images/img2.jpg')\n",
    "img = cv2.resize(img,(200,200))\n",
    "\n",
    "m = np.ones((3,3),np.int8)\n",
    "\n",
    "# Opening\n",
    "c = cv2.morphologyEx(img,cv2.MORPH_CLOSE, m)\n",
    "# Display\n",
    "hst = np.hstack((img, c))\n",
    "\n",
    "cv2.imshow(\"Image\",hst)\n",
    "\n",
    "cv2.waitKey(0)\n",
    "\n",
    "cv2.destroyWindow(\"Image\")\n",
    "\n",
    "del c,hst,img,m"
   ]
  },
  {
   "cell_type": "code",
   "execution_count": null,
   "id": "b0395160",
   "metadata": {},
   "outputs": [],
   "source": []
  },
  {
   "cell_type": "markdown",
   "id": "7891a722",
   "metadata": {},
   "source": [
    "## `Black Hat`"
   ]
  },
  {
   "cell_type": "code",
   "execution_count": 15,
   "id": "14d89bf4",
   "metadata": {},
   "outputs": [],
   "source": [
    "img = cv2.imread('images/img2.jpg')\n",
    "img = cv2.resize(img,(200,200))\n",
    "\n",
    "m = np.ones((5,9),np.int8)\n",
    "\n",
    "# Opening\n",
    "b = cv2.morphologyEx(img,cv2.MORPH_BLACKHAT, m)\n",
    "# Display\n",
    "hst = np.hstack((img, b))\n",
    "\n",
    "cv2.imshow(\"Image\",hst)\n",
    "\n",
    "cv2.waitKey(0)\n",
    "\n",
    "cv2.destroyWindow(\"Image\")\n",
    "\n",
    "del b,hst,img,m"
   ]
  },
  {
   "cell_type": "code",
   "execution_count": null,
   "id": "8b2361d1",
   "metadata": {},
   "outputs": [],
   "source": []
  },
  {
   "cell_type": "markdown",
   "id": "ab0a5e48",
   "metadata": {},
   "source": [
    "## `Top Hat`"
   ]
  },
  {
   "cell_type": "code",
   "execution_count": 16,
   "id": "85e65778",
   "metadata": {},
   "outputs": [],
   "source": [
    "img = cv2.imread('images/img2.jpg')\n",
    "img = cv2.resize(img,(200,200))\n",
    "\n",
    "m = np.ones((3,3),np.int8)\n",
    "\n",
    "# Opening\n",
    "t = cv2.morphologyEx(img,cv2.MORPH_TOPHAT, m)\n",
    "# Display\n",
    "hst = np.hstack((img, t))\n",
    "\n",
    "cv2.imshow(\"Image\",hst)\n",
    "\n",
    "cv2.waitKey(0)\n",
    "\n",
    "cv2.destroyWindow(\"Image\")\n",
    "\n",
    "del t,hst,img,m"
   ]
  },
  {
   "cell_type": "code",
   "execution_count": null,
   "id": "4bd7c574",
   "metadata": {},
   "outputs": [],
   "source": []
  },
  {
   "cell_type": "markdown",
   "id": "45728e6e",
   "metadata": {},
   "source": [
    "## `Morphological Gradient`"
   ]
  },
  {
   "cell_type": "code",
   "execution_count": 17,
   "id": "6c658602",
   "metadata": {},
   "outputs": [],
   "source": [
    "img = cv2.imread('images/img2.jpg')\n",
    "img = cv2.resize(img,(200,200))\n",
    "\n",
    "m = np.ones((3,3),np.int8)\n",
    "\n",
    "# Opening\n",
    "g = cv2.morphologyEx(img,cv2.MORPH_GRADIENT, m)\n",
    "# Display\n",
    "hst = np.hstack((img, g))\n",
    "\n",
    "cv2.imshow(\"Image\",hst)\n",
    "\n",
    "cv2.waitKey(0)\n",
    "\n",
    "cv2.destroyWindow(\"Image\")\n",
    "\n",
    "del g,hst,img,m"
   ]
  },
  {
   "cell_type": "code",
   "execution_count": null,
   "id": "6889ba55",
   "metadata": {},
   "outputs": [],
   "source": []
  },
  {
   "cell_type": "markdown",
   "id": "911f4d5c",
   "metadata": {},
   "source": [
    "## `Other`"
   ]
  },
  {
   "cell_type": "code",
   "execution_count": 19,
   "id": "14d5fed8",
   "metadata": {},
   "outputs": [],
   "source": [
    "img = cv2.imread('images/img2.jpg')\n",
    "img = cv2.resize(img,(200,200))\n",
    "\n",
    "m = np.ones((3,3),np.int8)\n",
    "\n",
    "# Opening\n",
    "g = cv2.morphologyEx(img,cv2.MORPH_RECT, m)\n",
    "# Display\n",
    "hst = np.hstack((img, g))\n",
    "\n",
    "cv2.imshow(\"Image\",hst)\n",
    "\n",
    "cv2.waitKey(0)\n",
    "\n",
    "cv2.destroyWindow(\"Image\")\n",
    "\n",
    "del g,hst,img,m"
   ]
  },
  {
   "cell_type": "code",
   "execution_count": null,
   "id": "79e0a84a",
   "metadata": {},
   "outputs": [],
   "source": []
  }
 ],
 "metadata": {
  "kernelspec": {
   "display_name": "Python 3 (ipykernel)",
   "language": "python",
   "name": "python3"
  },
  "language_info": {
   "codemirror_mode": {
    "name": "ipython",
    "version": 3
   },
   "file_extension": ".py",
   "mimetype": "text/x-python",
   "name": "python",
   "nbconvert_exporter": "python",
   "pygments_lexer": "ipython3",
   "version": "3.9.13"
  }
 },
 "nbformat": 4,
 "nbformat_minor": 5
}
