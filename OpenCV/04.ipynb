{
 "cells": [
  {
   "cell_type": "markdown",
   "id": "b7dd729e",
   "metadata": {},
   "source": [
    "# `Arithimitic Operator On Image`"
   ]
  },
  {
   "cell_type": "code",
   "execution_count": 1,
   "id": "ec940ec1",
   "metadata": {},
   "outputs": [],
   "source": [
    "import cv2\n",
    "import numpy as np"
   ]
  },
  {
   "cell_type": "code",
   "execution_count": 2,
   "id": "c239aad6",
   "metadata": {},
   "outputs": [],
   "source": [
    "# Get two images\n",
    "img1 = cv2.imread('images/img1.jpeg')\n",
    "img2 = cv2.imread('images/img6.jpg')"
   ]
  },
  {
   "cell_type": "code",
   "execution_count": 3,
   "id": "93b9d033",
   "metadata": {},
   "outputs": [
    {
     "data": {
      "text/plain": [
       "(730, 719, 3)"
      ]
     },
     "execution_count": 3,
     "metadata": {},
     "output_type": "execute_result"
    }
   ],
   "source": [
    "img1.shape"
   ]
  },
  {
   "cell_type": "code",
   "execution_count": 4,
   "id": "ed7da92c",
   "metadata": {},
   "outputs": [
    {
     "data": {
      "text/plain": [
       "(1024, 1024, 3)"
      ]
     },
     "execution_count": 4,
     "metadata": {},
     "output_type": "execute_result"
    }
   ],
   "source": [
    "img2.shape"
   ]
  },
  {
   "cell_type": "code",
   "execution_count": 5,
   "id": "9498e0ba",
   "metadata": {},
   "outputs": [],
   "source": [
    "img1 = cv2.resize(img1, (200,200))\n",
    "img2 = cv2.resize(img2, (200,200))\n",
    "# New Image with weighted\n",
    "img = cv2.addWeighted(img1, 0.5, img2, 1, 1)\n",
    "\n",
    "# Show image\n",
    "cv2.imshow('Image', img)\n",
    "\n",
    "# add weight\n",
    "cv2.waitKey(0)\n",
    "\n",
    "# Destroy window\n",
    "cv2.destroyWindow(\"Image\")\n",
    "\n",
    "# Delete variables\n",
    "del img, img1, img2"
   ]
  },
  {
   "cell_type": "code",
   "execution_count": null,
   "id": "c292ca94",
   "metadata": {},
   "outputs": [],
   "source": []
  },
  {
   "cell_type": "markdown",
   "id": "68c3de19",
   "metadata": {},
   "source": [
    "### `Subtract images`"
   ]
  },
  {
   "cell_type": "code",
   "execution_count": 6,
   "id": "7fd86ae4",
   "metadata": {},
   "outputs": [],
   "source": [
    "img1 = cv2.imread('images/img2.jpg')\n",
    "img2 = cv2.imread('images/img4.jpg')\n",
    "\n",
    "img1 = cv2.resize(img1, (300,300))\n",
    "img2 = cv2.resize(img2, (300,300))\n",
    "\n",
    "img = cv2.subtract(img1, img2)\n",
    "\n",
    "cv2.imshow('Image', img)\n",
    "\n",
    "cv2.waitKey(0)\n",
    "\n",
    "cv2.destroyWindow(\"Image\")\n",
    "\n",
    "del img1,img2,img"
   ]
  },
  {
   "cell_type": "code",
   "execution_count": null,
   "id": "14d40f50",
   "metadata": {},
   "outputs": [],
   "source": []
  },
  {
   "cell_type": "markdown",
   "id": "1a4fc35d",
   "metadata": {},
   "source": [
    "### `Add image with different alpha, beta and gema parameter`"
   ]
  },
  {
   "cell_type": "code",
   "execution_count": 7,
   "id": "d1ab1443",
   "metadata": {},
   "outputs": [],
   "source": [
    "img1 = cv2.imread('images/img2.jpg')\n",
    "img2 = cv2.imread('images/img4.jpg')\n",
    "\n",
    "img1 = cv2.resize(img1, (300,300))\n",
    "img2 = cv2.resize(img2, (300,300))\n",
    "\n",
    "img = cv2.addWeighted(img1, 0.4, img2, 0.9, 2)\n",
    "\n",
    "cv2.imshow('Image', img)\n",
    "\n",
    "cv2.waitKey(0)\n",
    "\n",
    "cv2.destroyWindow(\"Image\")\n",
    "\n",
    "del img1,img2,img"
   ]
  },
  {
   "cell_type": "code",
   "execution_count": null,
   "id": "059080e7",
   "metadata": {},
   "outputs": [],
   "source": []
  },
  {
   "cell_type": "code",
   "execution_count": null,
   "id": "cadc1053",
   "metadata": {},
   "outputs": [],
   "source": []
  }
 ],
 "metadata": {
  "kernelspec": {
   "display_name": "Python 3 (ipykernel)",
   "language": "python",
   "name": "python3"
  },
  "language_info": {
   "codemirror_mode": {
    "name": "ipython",
    "version": 3
   },
   "file_extension": ".py",
   "mimetype": "text/x-python",
   "name": "python",
   "nbconvert_exporter": "python",
   "pygments_lexer": "ipython3",
   "version": "3.9.13"
  }
 },
 "nbformat": 4,
 "nbformat_minor": 5
}
