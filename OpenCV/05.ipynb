{
 "cells": [
  {
   "cell_type": "markdown",
   "id": "aa6d81cd",
   "metadata": {},
   "source": [
    "# `Binary bitwise Operation`"
   ]
  },
  {
   "cell_type": "code",
   "execution_count": 1,
   "id": "5825d36c",
   "metadata": {},
   "outputs": [],
   "source": [
    "import cv2\n",
    "import numpy as np"
   ]
  },
  {
   "cell_type": "markdown",
   "id": "b483758c",
   "metadata": {},
   "source": [
    "### `Bitwise and`"
   ]
  },
  {
   "cell_type": "code",
   "execution_count": 4,
   "id": "2518893a",
   "metadata": {},
   "outputs": [],
   "source": [
    "img1 = cv2.imread('images/img1.jpeg',0)\n",
    "img2 = cv2.imread('images/img4.jpg',0)\n",
    "\n",
    "img1 = cv2.resize(img1,(200,200))\n",
    "img2 = cv2.resize(img2,(200,200))\n",
    "\n",
    "img = cv2.bitwise_and(img1,img2)\n",
    "\n",
    "h_s = np.hstack((img1,img2, img))\n",
    "\n",
    "cv2.imshow('Image',h_s)\n",
    "\n",
    "cv2.waitKey(0)\n",
    "\n",
    "cv2.destroyWindow(\"Image\")\n",
    "\n",
    "del img1, img2, img, h_s"
   ]
  },
  {
   "cell_type": "code",
   "execution_count": null,
   "id": "d13c09b5",
   "metadata": {},
   "outputs": [],
   "source": []
  },
  {
   "cell_type": "markdown",
   "id": "5b213625",
   "metadata": {},
   "source": [
    "### `Bitwise or`"
   ]
  },
  {
   "cell_type": "code",
   "execution_count": 5,
   "id": "7dfe8bb8",
   "metadata": {},
   "outputs": [],
   "source": [
    "img1 = cv2.imread('images/img1.jpeg',0)\n",
    "img2 = cv2.imread('images/img4.jpg',0)\n",
    "\n",
    "img1 = cv2.resize(img1,(200,200))\n",
    "img2 = cv2.resize(img2,(200,200))\n",
    "\n",
    "img = cv2.bitwise_or(img1,img2)\n",
    "\n",
    "h_s = np.hstack((img1,img2, img))\n",
    "\n",
    "cv2.imshow('Image',h_s)\n",
    "\n",
    "cv2.waitKey(0)\n",
    "\n",
    "cv2.destroyWindow(\"Image\")\n",
    "\n",
    "del img1, img2, img, h_s"
   ]
  },
  {
   "cell_type": "code",
   "execution_count": null,
   "id": "676f2fc1",
   "metadata": {},
   "outputs": [],
   "source": []
  },
  {
   "cell_type": "markdown",
   "id": "016e402c",
   "metadata": {},
   "source": [
    "### `Bitwise not`"
   ]
  },
  {
   "cell_type": "code",
   "execution_count": 6,
   "id": "7ccf6235",
   "metadata": {},
   "outputs": [],
   "source": [
    "img1 = cv2.imread('images/img1.jpeg',0)\n",
    "\n",
    "img1 = cv2.resize(img1,(200,200))\n",
    "\n",
    "img = cv2.bitwise_not(img1)\n",
    "\n",
    "h_s = np.hstack((img1, img))\n",
    "\n",
    "cv2.imshow('Image',h_s)\n",
    "\n",
    "cv2.waitKey(0)\n",
    "\n",
    "cv2.destroyWindow(\"Image\")\n",
    "\n",
    "del img1, img, h_s"
   ]
  },
  {
   "cell_type": "code",
   "execution_count": null,
   "id": "800b655b",
   "metadata": {},
   "outputs": [],
   "source": []
  },
  {
   "cell_type": "markdown",
   "id": "9006af49",
   "metadata": {},
   "source": [
    "### `Bitwise XOR`"
   ]
  },
  {
   "cell_type": "code",
   "execution_count": 7,
   "id": "f8f29123",
   "metadata": {},
   "outputs": [],
   "source": [
    "img1 = cv2.imread('images/img1.jpeg',0)\n",
    "img2 = cv2.imread('images/img4.jpg',0)\n",
    "\n",
    "img1 = cv2.resize(img1,(200,200))\n",
    "img2 = cv2.resize(img2,(200,200))\n",
    "\n",
    "img = cv2.bitwise_xor(img1,img2)\n",
    "\n",
    "h_s = np.hstack((img1,img2, img))\n",
    "\n",
    "cv2.imshow('Image',h_s)\n",
    "\n",
    "cv2.waitKey(0)\n",
    "\n",
    "cv2.destroyWindow(\"Image\")\n",
    "\n",
    "del img1, img2, img, h_s"
   ]
  },
  {
   "cell_type": "code",
   "execution_count": null,
   "id": "c77dd859",
   "metadata": {},
   "outputs": [],
   "source": []
  }
 ],
 "metadata": {
  "kernelspec": {
   "display_name": "Python 3 (ipykernel)",
   "language": "python",
   "name": "python3"
  },
  "language_info": {
   "codemirror_mode": {
    "name": "ipython",
    "version": 3
   },
   "file_extension": ".py",
   "mimetype": "text/x-python",
   "name": "python",
   "nbconvert_exporter": "python",
   "pygments_lexer": "ipython3",
   "version": "3.9.13"
  }
 },
 "nbformat": 4,
 "nbformat_minor": 5
}
