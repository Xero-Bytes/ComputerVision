{
 "cells": [
  {
   "cell_type": "markdown",
   "id": "756aba15-7ea4-493b-ab82-9e0438cba1fe",
   "metadata": {},
   "source": [
    "# Working with Videos"
   ]
  },
  {
   "cell_type": "markdown",
   "id": "25afa135-c1cc-4f43-adf4-eb39f6c38eb9",
   "metadata": {},
   "source": [
    "- #### Don't Run These Cells Here, Because In Jupyter Notebook Videos are Going to be Stuck.\n",
    "- #### I have created a separate Folder with Named Lecture 06, where I have created .py files for All these\n",
    "- #### You can Go and Play with there... I have created this notebook just for learning and understanding...."
   ]
  },
  {
   "cell_type": "markdown",
   "id": "b8a5c726-a0f0-478e-939e-bb2bdff8266e",
   "metadata": {},
   "source": [
    "## 01. Import and Load Libraries"
   ]
  },
  {
   "cell_type": "code",
   "execution_count": 1,
   "id": "7c228dfb-0410-4b82-a066-3098799e0359",
   "metadata": {},
   "outputs": [],
   "source": [
    "import matplotlib.pyplot as plt\n",
    "import numpy as np\n",
    "import cv2, sys\n",
    "\n",
    "\n",
    "# Manually specify the path to the project directory\n",
    "project_path = '../../'\n",
    "\n",
    "# Add the project directory to sys.path\n",
    "sys.path.append(project_path)\n",
    "\n",
    "from mansoor import Repeatable"
   ]
  },
  {
   "cell_type": "markdown",
   "id": "8595a42f-b330-4191-87b7-b70e2855d3d5",
   "metadata": {},
   "source": [
    "### Create an instance of Repeate"
   ]
  },
  {
   "cell_type": "code",
   "execution_count": 2,
   "id": "d411e3ed-be73-4507-9512-b4a873cc4a82",
   "metadata": {},
   "outputs": [],
   "source": [
    "r = Repeatable(300,300, base_path='../../data/images/', video_path='../../data/video/') # It have functions that we need to do Repeatedly"
   ]
  },
  {
   "cell_type": "markdown",
   "id": "715df7e6-affc-47ee-926d-1ecb4e2f06aa",
   "metadata": {},
   "source": [
    "## 02. Play a Video Using OpenCV"
   ]
  },
  {
   "cell_type": "markdown",
   "id": "d0b29d45-8324-4761-8eb4-de1ccead0ed0",
   "metadata": {},
   "source": [
    "### Load Video"
   ]
  },
  {
   "cell_type": "code",
   "execution_count": 3,
   "id": "9eddee1a-a51e-483f-8304-cb0062017920",
   "metadata": {},
   "outputs": [],
   "source": [
    "video = r.load_video()"
   ]
  },
  {
   "cell_type": "code",
   "execution_count": 5,
   "id": "e74f0617-a182-47b5-8015-c6e120b61d78",
   "metadata": {},
   "outputs": [],
   "source": [
    "while video.isOpened():\n",
    "    r, frame = video.read()\n",
    "    if r == True:\n",
    "        cv2.imshow(\"Video\", frame)\n",
    "\n",
    "        if cv2.waitKey(0) & 0xff == ord('p'):\n",
    "            break\n",
    "\n",
    "    else:\n",
    "        break"
   ]
  },
  {
   "cell_type": "markdown",
   "id": "03931883-917d-4349-a327-b087f6052715",
   "metadata": {},
   "source": [
    "- `cv2.waitKey(0)` Here 0 represents Number of frame in a second. Currently we pass 0, so our video `Doesnot run`. We need to press button for that\n",
    "- `ord('p')` Represents the ASCII value of a button.\n",
    "- `r, frame` In this line `r` contain the boolean data while `frame` contain the current image in that frame"
   ]
  },
  {
   "cell_type": "code",
   "execution_count": 2,
   "id": "d8fbb2ed-0318-4c98-bcfc-7e78bcd7491a",
   "metadata": {},
   "outputs": [
    {
     "name": "stdout",
     "output_type": "stream",
     "text": [
      "112\n"
     ]
    }
   ],
   "source": [
    "print(ord('p'))"
   ]
  },
  {
   "cell_type": "code",
   "execution_count": null,
   "id": "8ebd4c76-8faa-4a05-97e1-b33e4ecfe589",
   "metadata": {},
   "outputs": [],
   "source": []
  }
 ],
 "metadata": {
  "kernelspec": {
   "display_name": "Python 3 (ipykernel)",
   "language": "python",
   "name": "python3"
  },
  "language_info": {
   "codemirror_mode": {
    "name": "ipython",
    "version": 3
   },
   "file_extension": ".py",
   "mimetype": "text/x-python",
   "name": "python",
   "nbconvert_exporter": "python",
   "pygments_lexer": "ipython3",
   "version": "3.12.4"
  }
 },
 "nbformat": 4,
 "nbformat_minor": 5
}
