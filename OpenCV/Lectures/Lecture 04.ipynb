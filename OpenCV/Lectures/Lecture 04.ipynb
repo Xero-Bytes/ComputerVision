{
 "cells": [
  {
   "cell_type": "code",
   "execution_count": null,
   "id": "4e6bbc57-260c-4e75-856e-7f509340d6d3",
   "metadata": {},
   "outputs": [],
   "source": [
    "import matplotlib.pyplot as plt\n",
    "import numpy as np\n",
    "import cv2, sys\n",
    "\n",
    "\n",
    "# Manually specify the path to the project directory\n",
    "project_path = '../../'\n",
    "\n",
    "# Add the project directory to sys.path\n",
    "sys.path.append(project_path)\n",
    "\n",
    "from mansoor import Repeatable"
   ]
  },
  {
   "cell_type": "code",
   "execution_count": null,
   "id": "abbc8001-0ca5-4823-96d3-d62bfb264275",
   "metadata": {},
   "outputs": [],
   "source": []
  },
  {
   "cell_type": "code",
   "execution_count": null,
   "id": "b0d08790-8746-4648-98fb-0246a143219d",
   "metadata": {},
   "outputs": [],
   "source": [
    "r = Repeatable(300,300, base_path='../../data/images/') # It have functions that we need to do Repeatedly"
   ]
  }
 ],
 "metadata": {
  "kernelspec": {
   "display_name": "Python 3 (ipykernel)",
   "language": "python",
   "name": "python3"
  },
  "language_info": {
   "codemirror_mode": {
    "name": "ipython",
    "version": 3
   },
   "file_extension": ".py",
   "mimetype": "text/x-python",
   "name": "python",
   "nbconvert_exporter": "python",
   "pygments_lexer": "ipython3",
   "version": "3.12.4"
  }
 },
 "nbformat": 4,
 "nbformat_minor": 5
}
