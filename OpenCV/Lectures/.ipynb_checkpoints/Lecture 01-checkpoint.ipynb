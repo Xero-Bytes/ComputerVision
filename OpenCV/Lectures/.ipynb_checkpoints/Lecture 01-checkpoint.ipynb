{
 "cells": [
  {
   "cell_type": "code",
   "execution_count": 5,
   "id": "cba14439-1853-4287-a2e0-f4b75d4e1678",
   "metadata": {},
   "outputs": [],
   "source": [
    "import matplotlib.pyplot as plt\n",
    "import cv2\n",
    "import numpy as np\n",
    "import os, sys\n",
    "\n",
    "project_path = '../../../'\n",
    "\n",
    "# Add the project directory to sys.path\n",
    "sys.path.append(project_path)\n",
    "from mansoor import Repeatable"
   ]
  },
  {
   "cell_type": "markdown",
   "id": "c8142cd3-26a7-4fee-a64b-a56c1dd61a97",
   "metadata": {},
   "source": [
    "### Create Instance for repeatable"
   ]
  },
  {
   "cell_type": "code",
   "execution_count": 6,
   "id": "ae203fca-243b-4fc1-9beb-3b903cc52022",
   "metadata": {},
   "outputs": [],
   "source": [
    "r = Repeatable('../../../data/')"
   ]
  },
  {
   "cell_type": "markdown",
   "id": "186f09e7-4c2b-4a3b-b490-90ac841f4be5",
   "metadata": {},
   "source": [
    "## Read and Display Images"
   ]
  },
  {
   "cell_type": "markdown",
   "id": "9ef9256f-0fce-4e5c-9f2c-f148a10216fb",
   "metadata": {},
   "source": [
    "### Read and Display Single Image"
   ]
  },
  {
   "cell_type": "code",
   "execution_count": 7,
   "id": "ceb6f09f-dca3-43a7-aa8b-ce30246e6717",
   "metadata": {},
   "outputs": [],
   "source": [
    "img = r.load_image() # Read image"
   ]
  },
  {
   "cell_type": "code",
   "execution_count": 8,
   "id": "2f30d0aa-21e2-4378-b002-173f55704f43",
   "metadata": {},
   "outputs": [
    {
     "ename": "error",
     "evalue": "OpenCV(4.10.0) D:\\a\\opencv-python\\opencv-python\\opencv\\modules\\highgui\\src\\window.cpp:973: error: (-215:Assertion failed) size.width>0 && size.height>0 in function 'cv::imshow'\n",
     "output_type": "error",
     "traceback": [
      "\u001b[1;31m---------------------------------------------------------------------------\u001b[0m",
      "\u001b[1;31merror\u001b[0m                                     Traceback (most recent call last)",
      "Cell \u001b[1;32mIn[8], line 1\u001b[0m\n\u001b[1;32m----> 1\u001b[0m \u001b[43mcv2\u001b[49m\u001b[38;5;241;43m.\u001b[39;49m\u001b[43mimshow\u001b[49m\u001b[43m(\u001b[49m\u001b[38;5;124;43m'\u001b[39;49m\u001b[38;5;124;43mBin Salman\u001b[39;49m\u001b[38;5;124;43m'\u001b[39;49m\u001b[43m,\u001b[49m\u001b[43m \u001b[49m\u001b[43mimg\u001b[49m\u001b[43m)\u001b[49m \u001b[38;5;66;03m# Show image\u001b[39;00m\n\u001b[0;32m      2\u001b[0m cv2\u001b[38;5;241m.\u001b[39mwaitKey(\u001b[38;5;241m2000\u001b[39m) \u001b[38;5;66;03m# Wait for 2 second, we pass 0 to wait till keyPress\u001b[39;00m\n\u001b[0;32m      3\u001b[0m cv2\u001b[38;5;241m.\u001b[39mdestroyWindow(\u001b[38;5;124m'\u001b[39m\u001b[38;5;124mBin Salman\u001b[39m\u001b[38;5;124m'\u001b[39m)\n",
      "\u001b[1;31merror\u001b[0m: OpenCV(4.10.0) D:\\a\\opencv-python\\opencv-python\\opencv\\modules\\highgui\\src\\window.cpp:973: error: (-215:Assertion failed) size.width>0 && size.height>0 in function 'cv::imshow'\n"
     ]
    }
   ],
   "source": [
    "cv2.imshow('Bin Salman', img) # Show image\n",
    "cv2.waitKey(2000) # Wait for 2 second, we pass 0 to wait till keyPress\n",
    "cv2.destroyWindow('Bin Salman')"
   ]
  },
  {
   "cell_type": "code",
   "execution_count": null,
   "id": "519faa80-5bbc-49e8-a90a-0b88d41dab39",
   "metadata": {},
   "outputs": [],
   "source": []
  },
  {
   "cell_type": "markdown",
   "id": "a5ee1dad-c0b4-4e67-a46a-a7d787a9c417",
   "metadata": {},
   "source": [
    "### Display Images in Multiple Windows"
   ]
  },
  {
   "cell_type": "code",
   "execution_count": null,
   "id": "56a629c4-327b-4049-be10-888a57a132a5",
   "metadata": {},
   "outputs": [],
   "source": [
    "cv2.imshow('Bin Salman', img) # Show images\n",
    "cv2.imshow('Bin Salman2', img) # Show 2nd image\n",
    "cv2.waitKey(0) # Wait untill key Press\n",
    "# cv2.destroyWindow('Bin Salman') # It only destroy first window on keypress\n",
    "cv2.destroyAllWindows()"
   ]
  },
  {
   "cell_type": "code",
   "execution_count": null,
   "id": "e30430c6-d9bf-4545-86f3-0a99facc4b28",
   "metadata": {},
   "outputs": [],
   "source": []
  },
  {
   "cell_type": "markdown",
   "id": "486c322c-b94a-4582-abe7-7dcb586dee48",
   "metadata": {},
   "source": [
    "## Show Multiple Images"
   ]
  },
  {
   "cell_type": "code",
   "execution_count": null,
   "id": "2e25ff2c-91dc-4c54-b1f1-0ba12c6b92d3",
   "metadata": {},
   "outputs": [],
   "source": [
    "r.show_image_with_color(img, 'Bin Salman')"
   ]
  },
  {
   "cell_type": "markdown",
   "id": "c82efc68-06f5-46d1-97bd-67e6a52ad0fe",
   "metadata": {},
   "source": [
    "### Resize Image"
   ]
  },
  {
   "cell_type": "code",
   "execution_count": null,
   "id": "fa890931-b659-4e19-a4f3-9aafbb6bf074",
   "metadata": {},
   "outputs": [],
   "source": [
    "img.shape # Check the height, width and channel of an image"
   ]
  },
  {
   "cell_type": "code",
   "execution_count": null,
   "id": "c5d7ac66-e0d5-4459-a486-9e8277f3b05b",
   "metadata": {},
   "outputs": [],
   "source": [
    "r_img = cv2.resize(img, (100, 200)) # Resize image and give it new height and width"
   ]
  },
  {
   "cell_type": "code",
   "execution_count": null,
   "id": "8238edca-405e-4b10-8a9c-7e33274f20f1",
   "metadata": {},
   "outputs": [],
   "source": [
    "r_img.shape"
   ]
  },
  {
   "cell_type": "code",
   "execution_count": null,
   "id": "47e5d345-48fd-4363-89da-7c7ddf859ae4",
   "metadata": {},
   "outputs": [],
   "source": [
    "r.showImage(r_img, 'Bin Salman')"
   ]
  },
  {
   "cell_type": "code",
   "execution_count": null,
   "id": "524eb9d7-441d-4a9f-9770-acb17376c31f",
   "metadata": {},
   "outputs": [],
   "source": []
  },
  {
   "cell_type": "markdown",
   "id": "891fc220-051c-4ea6-8f4f-9b21056919e6",
   "metadata": {},
   "source": [
    "### hstack to combine images"
   ]
  },
  {
   "cell_type": "code",
   "execution_count": null,
   "id": "1a6b0880-650c-4c83-a1a1-25efc7154ff9",
   "metadata": {},
   "outputs": [],
   "source": [
    "a = np.array([1,2,3])\n",
    "b = np.array([4,5,6])\n",
    "c = np.hstack((a,b))\n",
    "c"
   ]
  },
  {
   "cell_type": "markdown",
   "id": "4cee1980-96a9-4496-bb7a-5ce9d96c4865",
   "metadata": {},
   "source": [
    "#### Load 2 images and show in frame"
   ]
  },
  {
   "cell_type": "code",
   "execution_count": null,
   "id": "06b6d2ee-280d-4f83-96d7-84015de829f6",
   "metadata": {},
   "outputs": [],
   "source": [
    "binSalman = r.load_image()\n",
    "cyber = r.load_image('cyber.png')"
   ]
  },
  {
   "cell_type": "code",
   "execution_count": null,
   "id": "bd8a8063-c704-40f2-ba00-2fb517d1eb88",
   "metadata": {},
   "outputs": [],
   "source": [
    "def shape_of_images(*args):\n",
    "    '''Checks and prints the shapes of multiple images.\n",
    "\n",
    "    Args:\n",
    "        *args: A variable number of image arrays (ndarrays). Each image should be a NumPy array, \n",
    "               typically in the format (height, width, channels) for color images or \n",
    "               (height, width) for grayscale images.\n",
    "\n",
    "    Prints the shape of each image passed as an argument, which can help determine \n",
    "    if the images are compatible for joining or concatenation (i.e., having the same height or width).\n",
    "\n",
    "    Example:\n",
    "        shape_of_images(image1, image2, image3)\n",
    "        This will print the shapes of image1, image2, and image3.\n",
    "    '''\n",
    "    for idx, img in enumerate(args, start=1):\n",
    "        print(f'Image {idx} shape: {img.shape}')\n"
   ]
  },
  {
   "cell_type": "code",
   "execution_count": null,
   "id": "d89c7c18-2713-4f9c-9136-3c139528f1aa",
   "metadata": {},
   "outputs": [],
   "source": [
    "r.shape_of_images(binSalman, cyber)"
   ]
  },
  {
   "cell_type": "code",
   "execution_count": null,
   "id": "93b044b3-3868-4b84-b38e-369294f7c34d",
   "metadata": {},
   "outputs": [],
   "source": [
    "# Resize cyber image\n",
    "cyber = cv2.resize(cyber, (330, 459))\n",
    "r.showImage(cyber, 'Cyber Resized')"
   ]
  },
  {
   "cell_type": "code",
   "execution_count": null,
   "id": "0750f60f-d4bd-4778-8821-a33ab0f32235",
   "metadata": {},
   "outputs": [],
   "source": [
    "r.shape_of_images(binSalman, cyber)"
   ]
  },
  {
   "cell_type": "markdown",
   "id": "552d635a-40a5-47a0-87c3-3480a61cb68c",
   "metadata": {},
   "source": [
    "#### Now join these two images using hstack"
   ]
  },
  {
   "cell_type": "code",
   "execution_count": null,
   "id": "c3f64306-e835-4467-a9c6-29d7753228ab",
   "metadata": {},
   "outputs": [],
   "source": [
    "img = np.hstack((binSalman, cyber))"
   ]
  },
  {
   "cell_type": "code",
   "execution_count": null,
   "id": "f0e76710-c4a2-4de9-a2e5-21b943203dfa",
   "metadata": {},
   "outputs": [],
   "source": [
    "r.showImage(img, 'Bin Salman and Cyber Joined')"
   ]
  },
  {
   "cell_type": "code",
   "execution_count": null,
   "id": "149b90a1-68c3-4b2f-b358-e2b6c721c808",
   "metadata": {},
   "outputs": [],
   "source": []
  },
  {
   "cell_type": "markdown",
   "id": "43db1ced-5a31-423c-b1d7-0010aba31659",
   "metadata": {},
   "source": [
    "### vstack to combine images"
   ]
  },
  {
   "cell_type": "code",
   "execution_count": null,
   "id": "2c601788-01d6-4ae7-aadc-36b5578338e9",
   "metadata": {},
   "outputs": [],
   "source": [
    "a = np.array([1,2,3])\n",
    "b = np.array([3,4,5])\n",
    "c = np.vstack((a,b))\n",
    "c"
   ]
  },
  {
   "cell_type": "code",
   "execution_count": null,
   "id": "397b6b07-ea18-454f-b9e2-bbc5b37f7171",
   "metadata": {},
   "outputs": [],
   "source": [
    "v_img = np.vstack((binSalman,cyber))"
   ]
  },
  {
   "cell_type": "code",
   "execution_count": null,
   "id": "bce5e3e8-492a-48e6-bc5c-d4f20dbfc46a",
   "metadata": {},
   "outputs": [],
   "source": [
    "r.showImage(v_img, 'Images Joined Vertically')"
   ]
  },
  {
   "cell_type": "markdown",
   "id": "017e3e28-7666-4b94-b480-b5b1d7155d5f",
   "metadata": {},
   "source": [
    "#### Now Combine Three Images"
   ]
  },
  {
   "cell_type": "code",
   "execution_count": null,
   "id": "b0e824fe-e9a8-47dd-a38e-aa1ee307313b",
   "metadata": {},
   "outputs": [],
   "source": [
    "flag = r.load_image('flag.jpg')"
   ]
  },
  {
   "cell_type": "code",
   "execution_count": null,
   "id": "c8444234-e5ac-4dff-9b5d-aeca1a117d01",
   "metadata": {},
   "outputs": [],
   "source": [
    "# We check shape of image of horizantally joined images and flag\n",
    "r.shape_of_images(img, flag)"
   ]
  },
  {
   "cell_type": "code",
   "execution_count": null,
   "id": "c78218fd-f01b-4eba-91ff-b72b230cd6a1",
   "metadata": {},
   "outputs": [],
   "source": [
    "# Resize flag image\n",
    "flag = cv2.resize(flag, (660, 459))"
   ]
  },
  {
   "cell_type": "code",
   "execution_count": null,
   "id": "8e97dcf0-65f0-4ff7-a728-e272f7ba17ff",
   "metadata": {},
   "outputs": [],
   "source": [
    "r.showImage(flag, 'Flag')"
   ]
  },
  {
   "cell_type": "markdown",
   "id": "57211542-0443-4959-8251-c9012de172f5",
   "metadata": {},
   "source": [
    "#### Join these images vertically through Vstack"
   ]
  },
  {
   "cell_type": "code",
   "execution_count": null,
   "id": "fadd6486-b259-479f-ba14-5b442f0ca87f",
   "metadata": {},
   "outputs": [],
   "source": [
    "img = np.vstack((img,flag))"
   ]
  },
  {
   "cell_type": "code",
   "execution_count": null,
   "id": "f1395b33-9850-4bbc-8a4b-165f4a94e8a7",
   "metadata": {},
   "outputs": [],
   "source": [
    "r.showImage(img, \"Images In a Frame\")"
   ]
  },
  {
   "cell_type": "code",
   "execution_count": null,
   "id": "44541683-7419-4cf3-adef-a11370e9ac5d",
   "metadata": {},
   "outputs": [],
   "source": []
  },
  {
   "cell_type": "markdown",
   "id": "b828c27d-dfd5-4940-a98e-5506659b6fc9",
   "metadata": {},
   "source": [
    "## Slide Show"
   ]
  },
  {
   "cell_type": "markdown",
   "id": "ff1d3fca-1ff4-4f6c-b825-94e62778aae3",
   "metadata": {},
   "source": [
    "### Get files name"
   ]
  },
  {
   "cell_type": "code",
   "execution_count": null,
   "id": "9f683a81-eef2-432a-baf5-884e686566bf",
   "metadata": {},
   "outputs": [],
   "source": [
    "file_names = os.listdir('data')"
   ]
  },
  {
   "cell_type": "code",
   "execution_count": null,
   "id": "991e0bc5-ca03-47ae-89df-ceaa838bcf49",
   "metadata": {},
   "outputs": [],
   "source": [
    "print(file_names)"
   ]
  },
  {
   "cell_type": "code",
   "execution_count": null,
   "id": "b1c22fa5-5172-4f3c-89db-678264dc8d7e",
   "metadata": {},
   "outputs": [],
   "source": [
    "# If you want to display all images:\n",
    "for name in file_names:\n",
    "    name_path = r.base_path + name  # Full path to the image\n",
    "    image = cv2.imread(name_path)  # Read the image\n",
    "    # print(name_path)\n",
    "    image_resized = cv2.resize(image, (300, 300))  # Resize the image\n",
    "    cv2.imshow(\"Images\", image_resized)  # Use the filename as the window name\n",
    "    cv2.waitKey(1000)  # Wait for 1000 ms (1 seconds)\n",
    "\n",
    "cv2.destroyAllWindows()"
   ]
  },
  {
   "cell_type": "code",
   "execution_count": null,
   "id": "f7a955c5-d6ae-4110-ad6e-45bcb9c515bb",
   "metadata": {},
   "outputs": [],
   "source": []
  }
 ],
 "metadata": {
  "kernelspec": {
   "display_name": "Python 3 (ipykernel)",
   "language": "python",
   "name": "python3"
  },
  "language_info": {
   "codemirror_mode": {
    "name": "ipython",
    "version": 3
   },
   "file_extension": ".py",
   "mimetype": "text/x-python",
   "name": "python",
   "nbconvert_exporter": "python",
   "pygments_lexer": "ipython3",
   "version": "3.12.4"
  }
 },
 "nbformat": 4,
 "nbformat_minor": 5
}
