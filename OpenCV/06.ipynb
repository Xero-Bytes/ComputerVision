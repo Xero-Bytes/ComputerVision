{
 "cells": [
  {
   "cell_type": "code",
   "execution_count": 7,
   "id": "0a9aa621",
   "metadata": {},
   "outputs": [],
   "source": [
    "import cv2\n",
    "import numpy as np"
   ]
  },
  {
   "cell_type": "markdown",
   "id": "9796c1e5",
   "metadata": {},
   "source": [
    "### `Edge Detection`"
   ]
  },
  {
   "cell_type": "code",
   "execution_count": 2,
   "id": "6239b1f7",
   "metadata": {},
   "outputs": [],
   "source": [
    "img = cv2.imread('images/img5.jpg')\n",
    "img = cv2.resize(img, (200,200))\n",
    "\n",
    "img = cv2.Canny(img,200,70,apertureSize=3, L2gradient=True)\n",
    "\n",
    "cv2.imshow('img',img)\n",
    "\n",
    "cv2.waitKey(0)\n",
    "\n",
    "cv2.destroyWindow('img')\n",
    "\n",
    "del img"
   ]
  },
  {
   "cell_type": "code",
   "execution_count": null,
   "id": "f9a0c500",
   "metadata": {},
   "outputs": [],
   "source": []
  },
  {
   "cell_type": "markdown",
   "id": "519e9fed",
   "metadata": {},
   "source": [
    "### `Rotate Image`"
   ]
  },
  {
   "cell_type": "code",
   "execution_count": 3,
   "id": "bcb7c09f",
   "metadata": {},
   "outputs": [],
   "source": [
    "img = cv2.imread('images/img3.jpg')\n",
    "\n",
    "img = cv2.resize(img, (200,200))\n",
    "\n",
    "w, h = img.shape[0], img.shape[1]\n",
    "\n",
    "m = cv2.getRotationMatrix2D((w/2, h/2), 70, 1)\n",
    "\n",
    "new_image = cv2.warpAffine(img, m, (w,h))\n",
    "\n",
    "cv2.imshow('Img', new_image)\n",
    "\n",
    "cv2.waitKey(0)\n",
    "\n",
    "cv2.destroyWindow('Img')\n",
    "\n",
    "del img, w, h, m, new_image"
   ]
  },
  {
   "cell_type": "code",
   "execution_count": null,
   "id": "423a65f0",
   "metadata": {},
   "outputs": [],
   "source": []
  },
  {
   "cell_type": "code",
   "execution_count": 4,
   "id": "fe3fcc6c",
   "metadata": {},
   "outputs": [],
   "source": [
    "img = cv2.imread('images/img3.jpg')\n",
    "\n",
    "img = cv2.resize(img, (200,200))\n",
    "\n",
    "w, h = img.shape[0], img.shape[1]\n",
    "\n",
    "m = cv2.getRotationMatrix2D((w/2, h/2), 90, 2)\n",
    "\n",
    "n = cv2.warpAffine(img, m, (w,h))\n",
    "\n",
    "cv2.imshow('Img', n)\n",
    "\n",
    "cv2.waitKey(0)\n",
    "\n",
    "cv2.destroyAllWindows()\n",
    "\n",
    "del m, n, img,w,h"
   ]
  },
  {
   "cell_type": "code",
   "execution_count": null,
   "id": "26012c95",
   "metadata": {},
   "outputs": [],
   "source": []
  },
  {
   "cell_type": "markdown",
   "id": "ab7cab86",
   "metadata": {},
   "source": [
    "# `Blur Images`"
   ]
  },
  {
   "cell_type": "code",
   "execution_count": 13,
   "id": "52f1911b",
   "metadata": {},
   "outputs": [],
   "source": [
    "img = cv2.imread('images/img3.jpg')\n",
    "img = cv2.resize(img, (200,200))\n",
    "\n",
    "g = cv2.GaussianBlur(img,(5,5),1)\n",
    "\n",
    "h = np.hstack((g,img))\n",
    "\n",
    "cv2.imshow('image', h)\n",
    "\n",
    "cv2.waitKey(0)\n",
    "\n",
    "cv2.destroyWindow('image')\n",
    "\n",
    "del h, g, img"
   ]
  },
  {
   "cell_type": "code",
   "execution_count": null,
   "id": "eff024b4",
   "metadata": {},
   "outputs": [],
   "source": []
  },
  {
   "cell_type": "markdown",
   "id": "84fe2e7e",
   "metadata": {},
   "source": [
    "# `medianBlur`"
   ]
  },
  {
   "cell_type": "code",
   "execution_count": 16,
   "id": "5296fbcd",
   "metadata": {},
   "outputs": [],
   "source": [
    "img = cv2.imread('images/img6.jpg')\n",
    "\n",
    "img = cv2.resize(img, (100,100))\n",
    "\n",
    "m = cv2.medianBlur(img, 5)\n",
    "\n",
    "cv2.imshow(\"image\", m)\n",
    "\n",
    "cv2.waitKey(0)\n",
    "\n",
    "cv2.destroyWindow('image')\n",
    "\n",
    "del img, m"
   ]
  },
  {
   "cell_type": "code",
   "execution_count": null,
   "id": "191dfdb8",
   "metadata": {},
   "outputs": [],
   "source": []
  },
  {
   "cell_type": "markdown",
   "id": "7b25fec4",
   "metadata": {},
   "source": [
    "# `bilateralFilter`"
   ]
  },
  {
   "cell_type": "code",
   "execution_count": 17,
   "id": "d75bec91",
   "metadata": {},
   "outputs": [],
   "source": [
    "img = cv2.imread('images/img3.jpg')\n",
    "\n",
    "img = cv2.resize(img, (200, 200))\n",
    "\n",
    "b = cv2.bilateralFilter(img,10,100,100)\n",
    "\n",
    "b = np.hstack((img, b))\n",
    "\n",
    "cv2.imshow('image', b)\n",
    "\n",
    "cv2.waitKey(0)\n",
    "\n",
    "cv2.destroyWindow('image')\n",
    "\n",
    "del img, b"
   ]
  },
  {
   "cell_type": "code",
   "execution_count": null,
   "id": "101c5863",
   "metadata": {},
   "outputs": [],
   "source": []
  }
 ],
 "metadata": {
  "kernelspec": {
   "display_name": "Python 3 (ipykernel)",
   "language": "python",
   "name": "python3"
  },
  "language_info": {
   "codemirror_mode": {
    "name": "ipython",
    "version": 3
   },
   "file_extension": ".py",
   "mimetype": "text/x-python",
   "name": "python",
   "nbconvert_exporter": "python",
   "pygments_lexer": "ipython3",
   "version": "3.9.13"
  }
 },
 "nbformat": 4,
 "nbformat_minor": 5
}
